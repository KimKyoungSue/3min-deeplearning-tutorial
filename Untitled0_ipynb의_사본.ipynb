{
  "nbformat": 4,
  "nbformat_minor": 0,
  "metadata": {
    "colab": {
      "name": "Untitled0.ipynb의 사본",
      "version": "0.3.2",
      "provenance": [],
      "collapsed_sections": [],
      "include_colab_link": true
    },
    "kernelspec": {
      "name": "python3",
      "display_name": "Python 3"
    }
  },
  "cells": [
    {
      "cell_type": "markdown",
      "metadata": {
        "id": "view-in-github",
        "colab_type": "text"
      },
      "source": [
        "<a href=\"https://colab.research.google.com/github/KimKyoungSue/3min-deeplearning-tutorial/blob/master/Untitled0_ipynb%EC%9D%98_%EC%82%AC%EB%B3%B8.ipynb\" target=\"_parent\"><img src=\"https://colab.research.google.com/assets/colab-badge.svg\" alt=\"Open In Colab\"/></a>"
      ]
    },
    {
      "metadata": {
        "id": "8QGjIj3qzFRZ",
        "colab_type": "code",
        "colab": {}
      },
      "cell_type": "code",
      "source": [
        "import tensorflow as tf"
      ],
      "execution_count": 0,
      "outputs": []
    },
    {
      "metadata": {
        "id": "WUFDDWK5MLwc",
        "colab_type": "code",
        "colab": {
          "base_uri": "https://localhost:8080/",
          "height": 34
        },
        "outputId": "4509084e-9948-42a6-ec21-3f17d5d4307c"
      },
      "cell_type": "code",
      "source": [
        "X = tf.placeholder(tf.float32, [None, 3])\n",
        "print(X)"
      ],
      "execution_count": 7,
      "outputs": [
        {
          "output_type": "stream",
          "text": [
            "Tensor(\"Placeholder_1:0\", shape=(?, 3), dtype=float32)\n"
          ],
          "name": "stdout"
        }
      ]
    },
    {
      "metadata": {
        "id": "lFQUkZoCMTec",
        "colab_type": "code",
        "colab": {}
      },
      "cell_type": "code",
      "source": [
        "x_data = [[1,2,3], [4,5,6]]"
      ],
      "execution_count": 0,
      "outputs": []
    },
    {
      "metadata": {
        "id": "K8i_AoRdMizE",
        "colab_type": "code",
        "colab": {}
      },
      "cell_type": "code",
      "source": [
        "W = tf.Variable(tf.random_normal([3,2]))\n",
        "b = tf.Variable(tf.random_normal([2,1]))"
      ],
      "execution_count": 0,
      "outputs": []
    },
    {
      "metadata": {
        "id": "siJTWIVqM44w",
        "colab_type": "code",
        "colab": {}
      },
      "cell_type": "code",
      "source": [
        "expr = tf.matmul(X,W) + b"
      ],
      "execution_count": 0,
      "outputs": []
    },
    {
      "metadata": {
        "id": "vRSMthzzNBIu",
        "colab_type": "code",
        "colab": {}
      },
      "cell_type": "code",
      "source": [
        "sess = tf.Session()\n",
        "sess.run(tf.global_variables_initializer())"
      ],
      "execution_count": 0,
      "outputs": []
    },
    {
      "metadata": {
        "id": "LoimPMYBNTv3",
        "colab_type": "code",
        "colab": {
          "base_uri": "https://localhost:8080/",
          "height": 174
        },
        "outputId": "f853e60b-e47c-4859-de74-618d2bfce8f1"
      },
      "cell_type": "code",
      "source": [
        "print(\"===X_data===\")\n",
        "print(x_data)\n",
        "print(\"===W===\")\n",
        "print(sess.run(W))\n",
        "print(\"===B===\")\n",
        "print(sess.run(b))"
      ],
      "execution_count": 12,
      "outputs": [
        {
          "output_type": "stream",
          "text": [
            "===X_data===\n",
            "[[1, 2, 3], [4, 5, 6]]\n",
            "===W===\n",
            "[[-0.47506025 -2.473943  ]\n",
            " [ 1.1312975   2.9660034 ]\n",
            " [-0.80762    -0.1564686 ]]\n",
            "===B===\n",
            "[[1.1340454 ]\n",
            " [0.32290834]]\n"
          ],
          "name": "stdout"
        }
      ]
    }
  ]
}